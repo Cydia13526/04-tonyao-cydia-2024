{
 "cells": [
  {
   "cell_type": "markdown",
   "id": "c7fb5ddf-9609-466b-9daf-88a8062cbcbc",
   "metadata": {},
   "source": [
    "# SIADS Milestone I\n",
    "\n",
    "- **Cydia Tsang (cydia@umich.edu)**, School of Information, University of Michigan\n",
    "- **Yao Tong (tonyao@umich.edu)**, School of Information, University of Michigan\n",
    "\n"
   ]
  },
  {
   "cell_type": "code",
   "execution_count": 41,
   "id": "e9461aec-9e8e-4f9a-898d-225e9890c3c7",
   "metadata": {},
   "outputs": [],
   "source": [
    "import sys, os\n",
    "import json\n",
    "import re\n",
    "import numpy as np\n",
    "import pandas as pd\n",
    "import seaborn as sns\n",
    "import matplotlib.pyplot as plt\n",
    "import itertools\n",
    "import nltk\n",
    "from nltk.probability import FreqDist, ConditionalFreqDist\n",
    "from nltk.tokenize import word_tokenize\n",
    "from sklearn.model_selection import train_test_split\n",
    "from sklearn.linear_model import LinearRegression\n",
    "from sklearn import metrics\n",
    "from scipy.stats import pearsonr\n",
    "from boto3.dynamodb.types import TypeDeserializer\n",
    "sys.path.append(os.getcwd() + \"/src\")\n",
    "from src.pj_config.dynamo_db_client import get_dynamo_db_client\n",
    "from decimal import Decimal"
   ]
  },
  {
   "cell_type": "markdown",
   "id": "90705ce1-2a78-46cc-a743-d51091895e55",
   "metadata": {},
   "source": [
    "# 1. Data Improt"
   ]
  },
  {
   "cell_type": "code",
   "execution_count": 75,
   "id": "05332f75-d5cb-41c3-9e33-be792ebd8494",
   "metadata": {},
   "outputs": [
    {
     "name": "stdout",
     "output_type": "stream",
     "text": [
      "                                              hashtags diggCount  \\\n",
      "0    [{'name': 'vjp', 'cover': '', 'id': '30368892'...     22100   \n",
      "1    [{'name': 'kesfet', 'cover': '', 'id': '715598...     25200   \n",
      "2                                                   []      1339   \n",
      "3    [{'name': 'nlunatics', 'cover': '', 'id': '166...    426700   \n",
      "4                                                   []      1411   \n",
      "..                                                 ...       ...   \n",
      "995  [{'name': 'hetclubhuis', 'cover': '', 'id': '1...     22400   \n",
      "996  [{'name': 'fitness', 'cover': 'https://p16-sg....       700   \n",
      "997  [{'name': 'fy', 'cover': '', 'id': '153828', '...      2008   \n",
      "998                                                 []       779   \n",
      "999                                                 []      8146   \n",
      "\n",
      "                                           webVideoUrl videoUrlNoWaterMark  \\\n",
      "0    https://www.tiktok.com/@ivarvanleijsen/video/6...                       \n",
      "1    https://www.tiktok.com/@achi.roffazuid/video/6...                       \n",
      "2    https://www.tiktok.com/@marqsheino/video/69039...                       \n",
      "3    https://www.tiktok.com/@goofyqueen_kanita/vide...                       \n",
      "4    https://www.tiktok.com/@nilanthanrock/video/68...                       \n",
      "..                                                 ...                 ...   \n",
      "995  https://www.tiktok.com/@kars/video/68975938662...                       \n",
      "996  https://www.tiktok.com/@marcusstone_fitness/vi...                       \n",
      "997  https://www.tiktok.com/@googlemaps696/video/69...                       \n",
      "998  https://www.tiktok.com/@news1st/video/69068416...                       \n",
      "999  https://www.tiktok.com/@classicmadii/video/688...                       \n",
      "\n",
      "                                          videoMeta  downloaded  \\\n",
      "0    {'width': 576, 'duration': 59, 'height': 1024}        True   \n",
      "1    {'width': 576, 'duration': 15, 'height': 1024}        True   \n",
      "2    {'width': 576, 'duration': 11, 'height': 1024}        True   \n",
      "3    {'width': 576, 'duration': 15, 'height': 1024}        True   \n",
      "4     {'width': 544, 'duration': 14, 'height': 960}        True   \n",
      "..                                              ...         ...   \n",
      "995   {'width': 576, 'duration': 9, 'height': 1024}        True   \n",
      "996   {'width': 576, 'duration': 9, 'height': 1024}        True   \n",
      "997  {'width': 576, 'duration': 14, 'height': 1024}        True   \n",
      "998   {'width': 576, 'duration': 59, 'height': 576}        True   \n",
      "999  {'width': 576, 'duration': 15, 'height': 1024}        True   \n",
      "\n",
      "           mentions                                               text  \\\n",
      "0                []  Storytime #vjp #voorjou #fyp #foryou #dutch #t...   \n",
      "1                []  #kesfet #turkish #asianmakeup #foryou #viral #...   \n",
      "2                []           It's always the most difficult workout 😬   \n",
      "3                []  #nlunatics #yinyang_fantasyworld #terrorkanita...   \n",
      "4                []                                                      \n",
      "..              ...                                                ...   \n",
      "995              []  Beide kanten krijg ik er niet in en dan lukt h...   \n",
      "996              []  Never satisfied... #fitness #fyp #gym #viral #...   \n",
      "997  [@nitro_turbo]  Antwoorden aan @nitro_turbo #fy #xcbyza #house...   \n",
      "998              []  අප්‍රේල් 21 ප්‍රහාරය සම්බන්ධයෙන් විමර්ශනය කරන ...   \n",
      "999              []  no one wants to help me make a tikytoky so I f...   \n",
      "\n",
      "     createTime playCount                                          musicMeta  \\\n",
      "0    1607522373    253000  {'coverThumb': 'https://p16-sign-va.tiktokcdn....   \n",
      "1    1608269434    439700  {'coverThumb': 'https://p16-sign-va.tiktokcdn....   \n",
      "2    1607461382     28200  {'coverThumb': 'https://p16-sign-va.tiktokcdn....   \n",
      "3    1601486071   5500000  {'coverThumb': 'https://p77-sign-sg.tiktokcdn....   \n",
      "4    1601804876     18700  {'coverThumb': 'https://p16-sign-va.tiktokcdn....   \n",
      "..          ...       ...                                                ...   \n",
      "995  1605971221    215500  {'coverThumb': 'https://p16-sign-va.tiktokcdn....   \n",
      "996  1606958377     35800  {'coverThumb': 'https://p16-sign-sg.tiktokcdn....   \n",
      "997  1607515758     99700  {'coverThumb': 'https://p77-sg.tiktokcdn.com/a...   \n",
      "998  1608124391     25800  {'coverThumb': 'https://p16-sign-sg.tiktokcdn....   \n",
      "999  1602012740     54900  {'coverThumb': 'https://p16-sign-va.tiktokcdn....   \n",
      "\n",
      "                                              videoUrl commentCount  \\\n",
      "0    https://v77.tiktokcdn.com/c953356cc2a6c90a1291...          179   \n",
      "1    https://v77.tiktokcdn.com/2f2e9c826f569f58fa12...          984   \n",
      "2    https://v77.tiktokcdn.com/5d036679013bf20c1712...           26   \n",
      "3    https://v77.tiktokcdn.com/0ea92c750080d3750c76...         4368   \n",
      "4    https://v77.tiktokcdn.com/ec6ec211f1ecfa2f9eea...           27   \n",
      "..                                                 ...          ...   \n",
      "995  https://v77.tiktokcdn.com/d0b1758e577ff04ff1cc...          195   \n",
      "996  https://v77.tiktokcdn.com/b1e08a50866e4dafce78...           68   \n",
      "997  https://v77.tiktokcdn.com/4ae2fe641777d6ca8051...          678   \n",
      "998  https://v77.tiktokcdn.com/34a6e02caadba5f65a1e...           11   \n",
      "999  https://v77.tiktokcdn.com/0b98bf7ba6ace9b8b90c...          100   \n",
      "\n",
      "    shareCount                                             covers  \\\n",
      "0          228  {'default': 'https://p16-sign-sg.tiktokcdn.com...   \n",
      "1          194  {'default': 'https://p16-sign-sg.tiktokcdn.com...   \n",
      "2           31  {'default': 'https://p16-sign-sg.tiktokcdn.com...   \n",
      "3        16100  {'default': 'https://p16-sign-sg.tiktokcdn.com...   \n",
      "4           24  {'default': 'https://p16-sign-sg.tiktokcdn.com...   \n",
      "..         ...                                                ...   \n",
      "995         49  {'default': 'https://p16-sign-sg.tiktokcdn.com...   \n",
      "996          8  {'default': 'https://p16-sign-sg.tiktokcdn.com...   \n",
      "997         14  {'default': 'https://p16-sign-sg.tiktokcdn.com...   \n",
      "998         44  {'default': 'https://p16-sign-sg.tiktokcdn.com...   \n",
      "999         13  {'default': 'https://p16-sign-sg.tiktokcdn.com...   \n",
      "\n",
      "                                            authorMeta                   id  \n",
      "0    {'secUid': 'MS4wLjABAAAAWMm27CGHWaqazK6YibEis0...  6904256013650758914  \n",
      "1    {'secUid': 'MS4wLjABAAAAUXcjtGCzGVHh3GSvJoWtQa...  6907464609116982529  \n",
      "2    {'secUid': 'MS4wLjABAAAAJhkh-MzXMx30sao69Z9g2t...  6903994055907118338  \n",
      "3    {'secUid': 'MS4wLjABAAAAaH2uMAblvPM9X5xrTdBUoW...  6878330292701121794  \n",
      "4    {'secUid': 'MS4wLjABAAAA6BEy2sQN_zGXhArr14nhgj...  6879699550303538434  \n",
      "..                                                 ...                  ...  \n",
      "995  {'secUid': 'MS4wLjABAAAAa7H6BD_ocoLEZ-WyRUYdwt...  6897593866283650306  \n",
      "996  {'secUid': 'MS4wLjABAAAAfKgnmFtS49bVbtXEUFQl4N...  6901833660224326914  \n",
      "997  {'secUid': 'MS4wLjABAAAAMtMyqqbQ7U4vPbGUR8NkUs...  6904227603067047170  \n",
      "998  {'secUid': 'MS4wLjABAAAAW7P-EUNl7CbnbMjRFvbn0e...  6906841661821717762  \n",
      "999  {'secUid': 'MS4wLjABAAAAhA1EfjsUmTnhDwhY2s497l...  6880592183720676614  \n",
      "\n",
      "[1000 rows x 17 columns]\n"
     ]
    }
   ],
   "source": [
    "def convert_dynamodb_response(response):\n",
    "    deserializer = TypeDeserializer()\n",
    "    def parse_item(item):\n",
    "        return {key: deserializer.deserialize(value) for key, value in item.items()}\n",
    "  \n",
    "    items_temp = [parse_item(item) for item in items]\n",
    "    df = pd.DataFrame(items_temp)\n",
    "    df = df.applymap(lambda x: x if not isinstance(x, dict) else x.get('S', x))\n",
    "    return df\n",
    "    \n",
    "dynamodb = get_dynamo_db_client()\n",
    "response = dynamodb.scan(TableName='tiktok_trending')\n",
    "\n",
    "items=response[\"Items\"]\n",
    "\n",
    "while 'LastEvaluatedKey' in response and response['LastEvaluatedKey'] != \"\":  \n",
    "    response = dynamodb.scan(TableName='tiktok_trending', ExclusiveStartKey=response['LastEvaluatedKey'])\n",
    "    items.extend(response[\"Items\"])\n",
    "df = convert_dynamodb_response(items)\n"
   ]
  },
  {
   "cell_type": "markdown",
   "id": "f36b3b48-f4ec-466c-b696-10e07782dbdd",
   "metadata": {},
   "source": [
    "# 2. Data Cleaning & Data Manipulation"
   ]
  },
  {
   "cell_type": "code",
   "execution_count": 8,
   "id": "9b63b64b-1121-4395-8409-c674d96cc056",
   "metadata": {},
   "outputs": [],
   "source": [
    "###### User\n",
    "user_df = df[['id', 'createTime', 'authorMeta', 'diggCount', 'commentCount', 'shareCount', 'playCount', 'downloaded']]"
   ]
  },
  {
   "cell_type": "code",
   "execution_count": 9,
   "id": "8104096c-c68b-480b-89c7-6807f0f655c3",
   "metadata": {},
   "outputs": [],
   "source": [
    "###### Music\n",
    "music_df = df[['id', 'createTime', 'musicMeta', 'diggCount', 'commentCount', 'shareCount', 'playCount', 'downloaded']]"
   ]
  },
  {
   "cell_type": "code",
   "execution_count": 46,
   "id": "c3e1cc3b-83d8-416d-b9c5-6a5ad349d59b",
   "metadata": {},
   "outputs": [
    {
     "name": "stdout",
     "output_type": "stream",
     "text": [
      "393\n"
     ]
    }
   ],
   "source": [
    "###### Video\n",
    "video_df = df[['id', 'createTime', 'videoMeta', 'diggCount', 'commentCount', 'shareCount', 'playCount', 'downloaded']]\n",
    "video_df = video_df.copy()\n",
    "\n",
    "video_df['videoMeta'] = video_df['videoMeta'].apply(lambda x: {'width': int(x['width']), 'duration': int(x['duration']), 'height': int(x['height'])})\n",
    "video_df[['video_width', 'video_duration', 'video_height']] = pd.DataFrame(video_df['videoMeta'].tolist())\n",
    "\n",
    "video_df['video_duration'] = video_df['video_duration'].astype(float)\n",
    "video_df['diggCount'] = video_df['diggCount'].astype(float)\n",
    "video_df['shareCount'] = video_df['shareCount'].astype(float)\n",
    "video_df['playCount'] = video_df['playCount'].astype(float)\n",
    "video_df['commentCount'] = video_df['commentCount'].astype(float)\n",
    "print(len(video_df))"
   ]
  },
  {
   "cell_type": "code",
   "execution_count": 47,
   "id": "6d7a339b-8022-4c15-a1a5-53e9fded9c25",
   "metadata": {},
   "outputs": [
    {
     "name": "stdout",
     "output_type": "stream",
     "text": [
      "393\n"
     ]
    }
   ],
   "source": [
    "###### Text\n",
    "text_df = df[['id', 'createTime', 'text', 'mentions', 'diggCount', 'commentCount', 'shareCount', 'playCount', 'downloaded']]\n",
    "\n",
    "def process_numeric_column(df, column_name):\n",
    "    df.loc[:, column_name] = pd.to_numeric(df[column_name], errors='coerce')\n",
    "    df_copy = df.copy()\n",
    "    quantiles = df_copy[column_name].quantile([0, 1/5, 2/5, 3/5, 4/5, 1])\n",
    "    df_copy[f'{column_name}Category'] = pd.cut(df_copy[column_name], bins=quantiles, labels=['very low', 'low', 'medium', 'high', 'very high'], include_lowest=True)\n",
    "    return df_copy\n",
    "    \n",
    "text_df = process_numeric_column(text_df, 'diggCount')\n",
    "text_df = process_numeric_column(text_df, 'commentCount')\n",
    "text_df = process_numeric_column(text_df, 'shareCount')\n",
    "text_df = process_numeric_column(text_df, 'playCount')\n",
    "\n",
    "def extract_hashtags(text):\n",
    "    return re.findall(r'#(\\w+)', text)\n",
    "\n",
    "unique_hashtags = set()\n",
    "for text in text_df['text']:\n",
    "    unique_hashtags.update(extract_hashtags(text))\n",
    "print(len(video_df))"
   ]
  },
  {
   "cell_type": "markdown",
   "id": "7f35bbc9-467b-40b8-8662-f9b2aa27c0e1",
   "metadata": {},
   "source": [
    "# 3. Analysis"
   ]
  },
  {
   "cell_type": "code",
   "execution_count": 12,
   "id": "b10f2c4f-8bae-4145-9de1-caab380fa3aa",
   "metadata": {},
   "outputs": [],
   "source": [
    "###### User"
   ]
  },
  {
   "cell_type": "code",
   "execution_count": 13,
   "id": "7f73cc93-1d7a-4e77-bc99-166215827963",
   "metadata": {},
   "outputs": [],
   "source": [
    "###### Music"
   ]
  },
  {
   "cell_type": "code",
   "execution_count": 14,
   "id": "8e2fdea4-9bf6-47c4-a40c-4c07651da55c",
   "metadata": {},
   "outputs": [
    {
     "name": "stdout",
     "output_type": "stream",
     "text": [
      "Correlation Coefficient Calculated by pearsonr\n",
      "Correlation Coefficient (video_duration vs diggCount): -0.05453050846293269\n",
      "Correlation Coefficient (video_duration vs shareCount): -0.026638553770916902\n",
      "Correlation Coefficient (video_duration vs playCount): -0.06466827066002559\n",
      "Correlation Coefficient (video_duration vs commentCount): -0.03163982716350423\n",
      "Coefficients: [-3.10448381e-06 -5.11184556e-06  6.61897793e-08  4.28275604e-05]\n",
      "Intercept: 18.23572224710861\n",
      "R-squared: -0.021456205129115835\n",
      "P-values: [-3.10448381e-06 -5.11184556e-06  6.61897793e-08  4.28275604e-05]\n"
     ]
    }
   ],
   "source": [
    "###### Video\n",
    "# Define the correlation function\n",
    "def correlation_analysis(column_name):\n",
    "    correlation_coefficient, _ = pearsonr(video_df['video_duration'], video_df[column_name])\n",
    "    return correlation_coefficient\n",
    "\n",
    "# Compute correlation coefficients for each variable\n",
    "digg_corr = correlation_analysis('diggCount')\n",
    "share_corr = correlation_analysis('shareCount')\n",
    "play_corr = correlation_analysis('playCount')\n",
    "comment_corr = correlation_analysis('commentCount')\n",
    "print(\"Correlation Coefficient Calculated by pearsonr\")\n",
    "print(f\"Correlation Coefficient (video_duration vs diggCount): {digg_corr}\")\n",
    "print(f\"Correlation Coefficient (video_duration vs shareCount): {share_corr}\")\n",
    "print(f\"Correlation Coefficient (video_duration vs playCount): {play_corr}\")\n",
    "print(f\"Correlation Coefficient (video_duration vs commentCount): {comment_corr}\")\n",
    "\n",
    "X = video_df[['diggCount', 'shareCount', 'playCount', 'commentCount']]\n",
    "y = video_df['video_duration']\n",
    "\n",
    "# Split the data into training and testing sets\n",
    "X_train, X_test, y_train, y_test = train_test_split(X, y, test_size=0.2, random_state=42)\n",
    "\n",
    "# Create a linear regression model\n",
    "model = LinearRegression()\n",
    "\n",
    "# Fit the model to the training data\n",
    "model.fit(X_train, y_train)\n",
    "\n",
    "# Predict video duration for the test set\n",
    "y_pred = model.predict(X_test)\n",
    "\n",
    "# Assess the model fit\n",
    "print(f\"Coefficients: {model.coef_}\")\n",
    "print(f\"Intercept: {model.intercept_}\")\n",
    "print(f\"R-squared: {metrics.r2_score(y_test, y_pred)}\")\n",
    "print(f\"P-values: {model.coef_}\")  # Note: scikit-learn doesn't directly provide p-values\n"
   ]
  },
  {
   "cell_type": "code",
   "execution_count": 44,
   "id": "052a3246-55be-474b-aa1b-4436e02c1dd1",
   "metadata": {},
   "outputs": [
    {
     "name": "stdout",
     "output_type": "stream",
     "text": [
      "              TargetColumn TargetValue          Hashtag  Probability\n",
      "0        diggCountCategory    very low           cardio          1.0\n",
      "1        diggCountCategory         low       blowthisup          1.0\n",
      "2        diggCountCategory         low         cleaning          1.0\n",
      "3        diggCountCategory         low      foryourpage          0.5\n",
      "4        diggCountCategory      medium      foryourpage          0.5\n",
      "...                    ...         ...              ...          ...\n",
      "6766  commentCountCategory        high  halloweenishere          1.0\n",
      "6767  commentCountCategory    very low        waitforit          1.0\n",
      "6768  commentCountCategory    very low        dlaciebie          1.0\n",
      "6769  commentCountCategory    very low         farmlife          1.0\n",
      "6770  commentCountCategory        high       broscience          1.0\n",
      "\n",
      "[6771 rows x 4 columns]\n"
     ]
    }
   ],
   "source": [
    "###### Text\n",
    "def conditional_probability(df, condition_column, condition_value, target_column, target_value):\n",
    "    filtered_data = df[df[condition_column].apply(lambda x: condition_value in x)]\n",
    "    total_occurrences = len(filtered_data)\n",
    "    target_occurrences = len(filtered_data[filtered_data[target_column] == target_value])\n",
    "    \n",
    "    if total_occurrences == 0:\n",
    "        probability = 0  # Avoid division by zero\n",
    "    else:\n",
    "        probability = target_occurrences / total_occurrences\n",
    "    if(probability > 0):\n",
    "        result_df = pd.DataFrame([[target_column, target_value, condition_value, probability]],\n",
    "                                 columns=['TargetColumn', 'TargetValue', 'Hashtag', 'Probability'])\n",
    "        return result_df\n",
    "\n",
    "result_dfs = []\n",
    "for category in ['diggCountCategory', 'shareCountCategory', 'playCountCategory', 'commentCountCategory']:\n",
    "    for hashtag in unique_hashtags:\n",
    "        for target_value in ['very low', 'low', 'medium', 'high', 'very high']:\n",
    "            result_df = conditional_probability(text_df, 'text', hashtag, category, target_value)\n",
    "            result_dfs.append(result_df)\n",
    "results = pd.concat(result_dfs, ignore_index=True)\n",
    "print(results)"
   ]
  },
  {
   "cell_type": "markdown",
   "id": "2eefa513-a2a3-48d6-a502-7150f65d1083",
   "metadata": {},
   "source": [
    "# 4. Data Visualisation"
   ]
  },
  {
   "cell_type": "code",
   "execution_count": null,
   "id": "b65b9783-0afa-412c-b4cb-027a2815386c",
   "metadata": {},
   "outputs": [],
   "source": [
    "###### User"
   ]
  },
  {
   "cell_type": "code",
   "execution_count": null,
   "id": "0cc99a41-008b-4866-8d97-899dab484e3e",
   "metadata": {},
   "outputs": [],
   "source": [
    "###### Music"
   ]
  },
  {
   "cell_type": "code",
   "execution_count": null,
   "id": "05b34b8c-df23-4938-b4fa-9a02af82d0e1",
   "metadata": {},
   "outputs": [],
   "source": [
    "###### Video\n",
    "num_cols = [\"diggCount\", \"commentCount\", \"shareCount\", \"playCount\"]\n",
    "plt.figure(figsize=(16, 12))\n",
    "for i, col in enumerate(num_cols, start=1):\n",
    "    plt.subplot(3, 2, i)\n",
    "    sns.scatterplot(x=col, y='video_duration', data=video_df)\n",
    "    plt.title(f'Scatter Plot: video_duration vs {col}')\n",
    "\n",
    "plt.tight_layout()\n",
    "plt.show()\n",
    "\n",
    "\n",
    "# Correlation heatmap\n",
    "video_new_df = video_df[[\"diggCount\", \"commentCount\", \"shareCount\", \"playCount\", \"video_duration\"]]\n",
    "plt.figure(figsize=(10, 8))\n",
    "correlation_matrix = video_new_df.corr()\n",
    "sns.heatmap(correlation_matrix, annot=True, cmap='coolwarm', fmt=\".2f\", linewidths=0.5)\n",
    "plt.title('Correlation Heatmap')\n",
    "plt.show()\n"
   ]
  },
  {
   "cell_type": "code",
   "execution_count": null,
   "id": "b8151d0e-710c-43df-b84a-9f399b489686",
   "metadata": {},
   "outputs": [],
   "source": [
    "###### Text"
   ]
  },
  {
   "cell_type": "code",
   "execution_count": null,
   "id": "dbfdc2a5-9dd0-4362-a4aa-0c496d2b9d96",
   "metadata": {},
   "outputs": [],
   "source": []
  }
 ],
 "metadata": {
  "kernelspec": {
   "display_name": "Python 3 (ipykernel)",
   "language": "python",
   "name": "python3"
  },
  "language_info": {
   "codemirror_mode": {
    "name": "ipython",
    "version": 3
   },
   "file_extension": ".py",
   "mimetype": "text/x-python",
   "name": "python",
   "nbconvert_exporter": "python",
   "pygments_lexer": "ipython3",
   "version": "3.8.9"
  }
 },
 "nbformat": 4,
 "nbformat_minor": 5
}
