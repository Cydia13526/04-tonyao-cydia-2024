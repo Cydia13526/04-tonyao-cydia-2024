{
 "cells": [
  {
   "cell_type": "markdown",
   "id": "c7fb5ddf-9609-466b-9daf-88a8062cbcbc",
   "metadata": {},
   "source": [
    "# SIADS Milestone I\n",
    "\n",
    "- **Cydia Tsang (cydia@umich.edu)**, School of Information, University of Michigan\n",
    "- **Yao Tong (tonyao@umich.edu)**, School of Information, University of Michigan\n",
    "\n"
   ]
  },
  {
   "cell_type": "code",
   "execution_count": 2,
   "id": "e9461aec-9e8e-4f9a-898d-225e9890c3c7",
   "metadata": {},
   "outputs": [],
   "source": [
    "import sys, os\n",
    "import json\n",
    "import pandas as pd\n",
    "from boto3.dynamodb.types import TypeDeserializer\n",
    "sys.path.append(os.getcwd() + \"/src\")\n",
    "from src.pj_config.dynamo_db_client import get_dynamo_db_client\n",
    "from decimal import Decimal"
   ]
  },
  {
   "cell_type": "markdown",
   "id": "90705ce1-2a78-46cc-a743-d51091895e55",
   "metadata": {},
   "source": [
    "# 1. Data Improt"
   ]
  },
  {
   "cell_type": "code",
   "execution_count": 23,
   "id": "05332f75-d5cb-41c3-9e33-be792ebd8494",
   "metadata": {},
   "outputs": [
    {
     "name": "stdout",
     "output_type": "stream",
     "text": [
      "0    {'coverThumb': 'https://p16-sign-va.tiktokcdn....\n",
      "1    {'coverThumb': 'https://p16-sign-va.tiktokcdn....\n",
      "Name: musicMeta, dtype: object\n"
     ]
    }
   ],
   "source": [
    "def convert_dynamodb_response(response):\n",
    "    deserializer = TypeDeserializer()\n",
    "    items = response['Items']\n",
    "\n",
    "    def parse_item(item):\n",
    "        return {key: deserializer.deserialize(value) for key, value in item.items()}\n",
    "\n",
    "    items = [parse_item(item) for item in items]\n",
    "    df = pd.DataFrame(items)\n",
    "    \n",
    "    df = df.applymap(lambda x: x if not isinstance(x, dict) else x.get('S', x))\n",
    "\n",
    "    return df\n",
    "    \n",
    "dynamodb = get_dynamo_db_client()\n",
    "\n",
    "response = dynamodb.scan(\n",
    "    TableName='tiktok_trending',\n",
    "    Limit=2  # Limit the result to 2 items\n",
    ")\n",
    "json_result = convert_dynamodb_response(response)\n",
    "print(json_result)"
   ]
  },
  {
   "cell_type": "markdown",
   "id": "f36b3b48-f4ec-466c-b696-10e07782dbdd",
   "metadata": {},
   "source": [
    "# 2. Data Cleaning"
   ]
  },
  {
   "cell_type": "code",
   "execution_count": null,
   "id": "9b63b64b-1121-4395-8409-c674d96cc056",
   "metadata": {},
   "outputs": [],
   "source": []
  },
  {
   "cell_type": "markdown",
   "id": "deb85782-6034-4991-83db-3b7c084cfdf1",
   "metadata": {},
   "source": [
    "# 3. Data Manipulation"
   ]
  },
  {
   "cell_type": "code",
   "execution_count": null,
   "id": "cd8eed35-7499-4985-83d0-8a15040f147c",
   "metadata": {},
   "outputs": [],
   "source": []
  },
  {
   "cell_type": "markdown",
   "id": "2eefa513-a2a3-48d6-a502-7150f65d1083",
   "metadata": {},
   "source": [
    "# 4. Data Visualisation"
   ]
  },
  {
   "cell_type": "code",
   "execution_count": null,
   "id": "b65b9783-0afa-412c-b4cb-027a2815386c",
   "metadata": {},
   "outputs": [],
   "source": []
  }
 ],
 "metadata": {
  "kernelspec": {
   "display_name": "Python 3 (ipykernel)",
   "language": "python",
   "name": "python3"
  },
  "language_info": {
   "codemirror_mode": {
    "name": "ipython",
    "version": 3
   },
   "file_extension": ".py",
   "mimetype": "text/x-python",
   "name": "python",
   "nbconvert_exporter": "python",
   "pygments_lexer": "ipython3",
   "version": "3.8.9"
  }
 },
 "nbformat": 4,
 "nbformat_minor": 5
}
