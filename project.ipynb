{
 "cells": [
  {
   "cell_type": "markdown",
   "id": "c7fb5ddf-9609-466b-9daf-88a8062cbcbc",
   "metadata": {},
   "source": [
    "# SIADS Milestone I\n",
    "\n",
    "- **Cydia Tsang (cydia@umich.edu)**, School of Information, University of Michigan\n",
    "- **Yao Tong (tonyao@umich.edu)**, School of Information, University of Michigan\n",
    "\n"
   ]
  },
  {
   "cell_type": "code",
   "execution_count": 5,
   "id": "e9461aec-9e8e-4f9a-898d-225e9890c3c7",
   "metadata": {},
   "outputs": [],
   "source": [
    "import sys, os\n",
    "import json\n",
    "import pandas as pd\n",
    "sys.path.append(os.getcwd() + \"/src\")\n",
    "from src.pj_config.dynamo_db_client import get_dynamo_db_client"
   ]
  },
  {
   "cell_type": "markdown",
   "id": "90705ce1-2a78-46cc-a743-d51091895e55",
   "metadata": {},
   "source": [
    "# 1. Data Improt"
   ]
  },
  {
   "cell_type": "code",
   "execution_count": 9,
   "id": "05332f75-d5cb-41c3-9e33-be792ebd8494",
   "metadata": {},
   "outputs": [
    {
     "name": "stdout",
     "output_type": "stream",
     "text": [
      "                                          hashtags.L diggCount.N  \\\n",
      "0  [{'M': {'name': {'S': 'vjp'}, 'cover': {'S': '...       22100   \n",
      "1  [{'M': {'name': {'S': 'kesfet'}, 'cover': {'S'...       25200   \n",
      "2                                                 []        1339   \n",
      "3  [{'M': {'name': {'S': 'nlunatics'}, 'cover': {...      426700   \n",
      "4                                                 []        1411   \n",
      "\n",
      "                                       webVideoUrl.S videoUrlNoWaterMark.S  \\\n",
      "0  https://www.tiktok.com/@ivarvanleijsen/video/6...                         \n",
      "1  https://www.tiktok.com/@achi.roffazuid/video/6...                         \n",
      "2  https://www.tiktok.com/@marqsheino/video/69039...                         \n",
      "3  https://www.tiktok.com/@goofyqueen_kanita/vide...                         \n",
      "4  https://www.tiktok.com/@nilanthanrock/video/68...                         \n",
      "\n",
      "  videoMeta.M.width.N videoMeta.M.duration.N videoMeta.M.height.N  \\\n",
      "0                 576                     59                 1024   \n",
      "1                 576                     15                 1024   \n",
      "2                 576                     11                 1024   \n",
      "3                 576                     15                 1024   \n",
      "4                 544                     14                  960   \n",
      "\n",
      "   downloaded.BOOL mentions.L  \\\n",
      "0             True         []   \n",
      "1             True         []   \n",
      "2             True         []   \n",
      "3             True         []   \n",
      "4             True         []   \n",
      "\n",
      "                                              text.S  ...  \\\n",
      "0  Storytime #vjp #voorjou #fyp #foryou #dutch #t...  ...   \n",
      "1  #kesfet #turkish #asianmakeup #foryou #viral #...  ...   \n",
      "2           It's always the most difficult workout 😬  ...   \n",
      "3  #nlunatics #yinyang_fantasyworld #terrorkanita...  ...   \n",
      "4                                                     ...   \n",
      "\n",
      "                                  covers.M.dynamic.S  \\\n",
      "0  https://p16-sign-sg.tiktokcdn.com/obj/tos-alis...   \n",
      "1  https://p16-sign-sg.tiktokcdn.com/obj/tos-alis...   \n",
      "2  https://p16-sign-sg.tiktokcdn.com/obj/tos-alis...   \n",
      "3  https://p16-sign-sg.tiktokcdn.com/obj/tos-alis...   \n",
      "4  https://p16-sign-sg.tiktokcdn.com/obj/tos-alis...   \n",
      "\n",
      "                                   covers.M.origin.S  \\\n",
      "0  https://p16-sign-sg.tiktokcdn.com/obj/tos-alis...   \n",
      "1  https://p16-sign-sg.tiktokcdn.com/obj/tos-alis...   \n",
      "2  https://p16-sign-sg.tiktokcdn.com/obj/tos-alis...   \n",
      "3  https://p16-sign-sg.tiktokcdn.com/obj/tos-alis...   \n",
      "4  https://p16-sign-sg.tiktokcdn.com/obj/tos-alis...   \n",
      "\n",
      "                               authorMeta.M.secUid.S  \\\n",
      "0  MS4wLjABAAAAWMm27CGHWaqazK6YibEis0OkCrJks5h7bJ...   \n",
      "1  MS4wLjABAAAAUXcjtGCzGVHh3GSvJoWtQaflGpQq3QRR3m...   \n",
      "2  MS4wLjABAAAAJhkh-MzXMx30sao69Z9g2tEaLXYXdVCvlg...   \n",
      "3  MS4wLjABAAAAaH2uMAblvPM9X5xrTdBUoWjNvXE4PKQHLp...   \n",
      "4  MS4wLjABAAAA6BEy2sQN_zGXhArr14nhgjChEeqcsN_yjk...   \n",
      "\n",
      "                            authorMeta.M.signature.S authorMeta.M.nickName.S  \\\n",
      "0   Als je hier toch al bent, volg mij ff op insta 😉        Ivar van Leijsen   \n",
      "1  insta (nogaiturk.vn.roffazuid)\\n🇹🇷🇰🇿🇦🇱🇹🇩🇷🇺\\n(T...               ahmedsaid   \n",
      "2  All things fitness\\nHit the (+) for tips, moti...         Markus Heinonen   \n",
      "3  🇳🇱#NLunatics #yy_fantasyworld🔞\\n💍 jordijordi8\\...  The Goofy Queen Kanita   \n",
      "4                                                             Nilanthan Rock   \n",
      "\n",
      "  authorMeta.M.name.S authorMeta.M.verified.BOOL    authorMeta.M.id.S  \\\n",
      "0      ivarvanleijsen                      False  6808502371640574981   \n",
      "1      achi.roffazuid                      False  6785588488583873541   \n",
      "2          marqsheino                      False  6733926208025084934   \n",
      "3   goofyqueen_kanita                      False  6762932988806054918   \n",
      "4       nilanthanrock                      False  6665871745537785862   \n",
      "\n",
      "                               authorMeta.M.avatar.S                 id.S  \n",
      "0  https://p16-sign-sg.tiktokcdn.com/aweme/1080x1...  6904256013650758914  \n",
      "1  https://p16-sign-sg.tiktokcdn.com/aweme/1080x1...  6907464609116982529  \n",
      "2  https://p16-sign-sg.tiktokcdn.com/aweme/1080x1...  6903994055907118338  \n",
      "3  https://p16-sign-sg.tiktokcdn.com/aweme/1080x1...  6878330292701121794  \n",
      "4  https://p16-sign-sg.tiktokcdn.com/aweme/1080x1...  6879699550303538434  \n",
      "\n",
      "[5 rows x 34 columns]\n"
     ]
    }
   ],
   "source": [
    "dynamodb = get_dynamo_db_client()\n",
    "\n",
    "# Retrieve the item\n",
    "response = dynamodb.scan(\n",
    "    TableName='tiktok_trending',\n",
    "    Limit=10  # Limit the result to 10 items\n",
    ")\n",
    "items = response.get(\"Items\", [])\n",
    "df = pd.json_normalize(items)\n",
    "print(df.head())\n"
   ]
  },
  {
   "cell_type": "markdown",
   "id": "f36b3b48-f4ec-466c-b696-10e07782dbdd",
   "metadata": {},
   "source": [
    "# 2. Data Cleaning"
   ]
  },
  {
   "cell_type": "code",
   "execution_count": null,
   "id": "9b63b64b-1121-4395-8409-c674d96cc056",
   "metadata": {},
   "outputs": [],
   "source": []
  },
  {
   "cell_type": "markdown",
   "id": "deb85782-6034-4991-83db-3b7c084cfdf1",
   "metadata": {},
   "source": [
    "# 3. Data Manipulation"
   ]
  },
  {
   "cell_type": "code",
   "execution_count": null,
   "id": "cd8eed35-7499-4985-83d0-8a15040f147c",
   "metadata": {},
   "outputs": [],
   "source": []
  },
  {
   "cell_type": "markdown",
   "id": "2eefa513-a2a3-48d6-a502-7150f65d1083",
   "metadata": {},
   "source": [
    "# 4. Data Visualisation"
   ]
  },
  {
   "cell_type": "code",
   "execution_count": null,
   "id": "b65b9783-0afa-412c-b4cb-027a2815386c",
   "metadata": {},
   "outputs": [],
   "source": []
  }
 ],
 "metadata": {
  "kernelspec": {
   "display_name": "Python 3 (ipykernel)",
   "language": "python",
   "name": "python3"
  },
  "language_info": {
   "codemirror_mode": {
    "name": "ipython",
    "version": 3
   },
   "file_extension": ".py",
   "mimetype": "text/x-python",
   "name": "python",
   "nbconvert_exporter": "python",
   "pygments_lexer": "ipython3",
   "version": "3.8.9"
  }
 },
 "nbformat": 4,
 "nbformat_minor": 5
}
